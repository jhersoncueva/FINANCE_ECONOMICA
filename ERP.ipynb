{
 "cells": [
  {
   "cell_type": "code",
   "execution_count": 1,
   "metadata": {},
   "outputs": [
    {
     "name": "stderr",
     "output_type": "stream",
     "text": [
      "C:\\Users\\HP SUPPORT\\AppData\\Roaming\\Python\\Python39\\site-packages\\pandas\\core\\computation\\expressions.py:21: UserWarning: Pandas requires version '2.8.4' or newer of 'numexpr' (version '2.8.3' currently installed).\n",
      "  from pandas.core.computation.check import NUMEXPR_INSTALLED\n",
      "C:\\Users\\HP SUPPORT\\AppData\\Roaming\\Python\\Python39\\site-packages\\pandas\\core\\arrays\\masked.py:60: UserWarning: Pandas requires version '1.3.6' or newer of 'bottleneck' (version '1.3.5' currently installed).\n",
      "  from pandas.core import (\n"
     ]
    }
   ],
   "source": [
    "import os\n",
    "import numpy as np\n",
    "import pandas as pd\n",
    "import matplotlib.pyplot as plt\n",
    "from scipy import optimize"
   ]
  },
  {
   "cell_type": "code",
   "execution_count": 21,
   "metadata": {},
   "outputs": [
    {
     "name": "stderr",
     "output_type": "stream",
     "text": [
      "C:\\Users\\HP SUPPORT\\AppData\\Local\\Temp\\ipykernel_20168\\888208587.py:11: FutureWarning: The default fill_method='pad' in DataFrame.pct_change is deprecated and will be removed in a future version. Either fill in any non-leading NA values prior to calling pct_change or specify 'fill_method=None' to not fill NA values.\n",
      "  sp500_returns = sp500_data.pct_change().resample('M').last()\n",
      "C:\\Users\\HP SUPPORT\\AppData\\Local\\Temp\\ipykernel_20168\\888208587.py:11: FutureWarning: 'M' is deprecated and will be removed in a future version, please use 'ME' instead.\n",
      "  sp500_returns = sp500_data.pct_change().resample('M').last()\n",
      "C:\\Users\\HP SUPPORT\\AppData\\Local\\Temp\\ipykernel_20168\\888208587.py:16: FutureWarning: 'M' is deprecated and will be removed in a future version, please use 'ME' instead.\n",
      "  pce_returns = pce_data.pct_change(12).resample('M').last()\n"
     ]
    },
    {
     "name": "stdout",
     "output_type": "stream",
     "text": [
      "            S&P 500 Returns  PCE Returns  10-Year Bond Returns\n",
      "DATE                                                          \n",
      "2019-08-31         0.000643          NaN                   NaN\n",
      "2019-09-30         0.005048          NaN                   NaN\n",
      "2019-10-31        -0.003023          NaN              0.005882\n",
      "2019-11-30        -0.004011          NaN              0.058480\n",
      "2019-12-31         0.002946          NaN              0.027624\n"
     ]
    },
    {
     "name": "stderr",
     "output_type": "stream",
     "text": [
      "C:\\Users\\HP SUPPORT\\AppData\\Local\\Temp\\ipykernel_20168\\888208587.py:21: FutureWarning: 'M' is deprecated and will be removed in a future version, please use 'ME' instead.\n",
      "  ten_year_bond_returns = ten_year_bond.pct_change().resample('M').last()\n"
     ]
    }
   ],
   "source": [
    "import pandas_datareader.data as web\n",
    "import pandas as pd\n",
    "\n",
    "# Establece las fechas de inicio y fin para la descarga de datos\n",
    "start_date = '2019-08-27'\n",
    "end_date = '2024-08-27'\n",
    "\n",
    "# Descarga los datos del S&P 500 desde FRED\n",
    "sp500_data = web.DataReader('SP500', 'fred', start_date, end_date)\n",
    "# Calcula los retornos diarios del S&P 500 y luego resamplea a mensual tomando el último valor\n",
    "sp500_returns = sp500_data.pct_change().resample('M').last()\n",
    "\n",
    "# Descarga los datos de Personal Consumption Expenditures desde FRED\n",
    "pce_data = web.DataReader('PCE', 'fred', start_date, end_date)\n",
    "# Calcula los retornos interanuales de PCE\n",
    "pce_returns = pce_data.pct_change(12).resample('M').last()\n",
    "\n",
    "# Descarga los datos del bono del Tesoro a 10 años\n",
    "ten_year_bond = web.DataReader('GS10', 'fred', start_date, end_date)\n",
    "# Calcula los retornos diarios del bono del Tesoro a 10 años y resamplea a mensual tomando el último valor\n",
    "ten_year_bond_returns = ten_year_bond.pct_change().resample('M').last()\n",
    "\n",
    "# Combina los tres dataframes\n",
    "combined_data = pd.concat([sp500_returns, pce_returns, ten_year_bond_returns], axis=1)\n",
    "combined_data.columns = ['S&P 500 Returns', 'PCE Returns', '10-Year Bond Returns']\n",
    "\n",
    "# Muestra los primeros registros para verificar\n",
    "print(combined_data.head())\n"
   ]
  },
  {
   "cell_type": "code",
   "execution_count": 22,
   "metadata": {},
   "outputs": [
    {
     "data": {
      "text/html": [
       "<div>\n",
       "<style scoped>\n",
       "    .dataframe tbody tr th:only-of-type {\n",
       "        vertical-align: middle;\n",
       "    }\n",
       "\n",
       "    .dataframe tbody tr th {\n",
       "        vertical-align: top;\n",
       "    }\n",
       "\n",
       "    .dataframe thead th {\n",
       "        text-align: right;\n",
       "    }\n",
       "</style>\n",
       "<table border=\"1\" class=\"dataframe\">\n",
       "  <thead>\n",
       "    <tr style=\"text-align: right;\">\n",
       "      <th></th>\n",
       "      <th>S&amp;P 500 Returns</th>\n",
       "      <th>PCE Returns</th>\n",
       "      <th>10-Year Bond Returns</th>\n",
       "    </tr>\n",
       "    <tr>\n",
       "      <th>DATE</th>\n",
       "      <th></th>\n",
       "      <th></th>\n",
       "      <th></th>\n",
       "    </tr>\n",
       "  </thead>\n",
       "  <tbody>\n",
       "    <tr>\n",
       "      <th>2020-09-30</th>\n",
       "      <td>0.008254</td>\n",
       "      <td>0.006829</td>\n",
       "      <td>0.046154</td>\n",
       "    </tr>\n",
       "    <tr>\n",
       "      <th>2020-10-31</th>\n",
       "      <td>-0.012130</td>\n",
       "      <td>0.008125</td>\n",
       "      <td>0.161765</td>\n",
       "    </tr>\n",
       "    <tr>\n",
       "      <th>2020-11-30</th>\n",
       "      <td>-0.004595</td>\n",
       "      <td>-0.000191</td>\n",
       "      <td>0.101266</td>\n",
       "    </tr>\n",
       "    <tr>\n",
       "      <th>2020-12-31</th>\n",
       "      <td>0.006439</td>\n",
       "      <td>0.004104</td>\n",
       "      <td>0.068966</td>\n",
       "    </tr>\n",
       "    <tr>\n",
       "      <th>2021-01-31</th>\n",
       "      <td>-0.019312</td>\n",
       "      <td>0.015632</td>\n",
       "      <td>0.161290</td>\n",
       "    </tr>\n",
       "    <tr>\n",
       "      <th>2021-02-28</th>\n",
       "      <td>-0.004750</td>\n",
       "      <td>0.009284</td>\n",
       "      <td>0.166667</td>\n",
       "    </tr>\n",
       "    <tr>\n",
       "      <th>2021-03-31</th>\n",
       "      <td>0.003623</td>\n",
       "      <td>0.135185</td>\n",
       "      <td>0.277778</td>\n",
       "    </tr>\n",
       "    <tr>\n",
       "      <th>2021-04-30</th>\n",
       "      <td>-0.007195</td>\n",
       "      <td>0.296509</td>\n",
       "      <td>0.018634</td>\n",
       "    </tr>\n",
       "    <tr>\n",
       "      <th>2021-05-31</th>\n",
       "      <td>0.000000</td>\n",
       "      <td>0.199119</td>\n",
       "      <td>-0.012195</td>\n",
       "    </tr>\n",
       "    <tr>\n",
       "      <th>2021-06-30</th>\n",
       "      <td>0.001328</td>\n",
       "      <td>0.148384</td>\n",
       "      <td>-0.061728</td>\n",
       "    </tr>\n",
       "    <tr>\n",
       "      <th>2021-07-31</th>\n",
       "      <td>-0.005406</td>\n",
       "      <td>0.130605</td>\n",
       "      <td>-0.131579</td>\n",
       "    </tr>\n",
       "    <tr>\n",
       "      <th>2021-08-31</th>\n",
       "      <td>-0.001349</td>\n",
       "      <td>0.130105</td>\n",
       "      <td>-0.030303</td>\n",
       "    </tr>\n",
       "    <tr>\n",
       "      <th>2021-09-30</th>\n",
       "      <td>-0.011910</td>\n",
       "      <td>0.118997</td>\n",
       "      <td>0.070312</td>\n",
       "    </tr>\n",
       "    <tr>\n",
       "      <th>2021-10-31</th>\n",
       "      <td>0.001949</td>\n",
       "      <td>0.129998</td>\n",
       "      <td>0.153285</td>\n",
       "    </tr>\n",
       "    <tr>\n",
       "      <th>2021-11-30</th>\n",
       "      <td>-0.018961</td>\n",
       "      <td>0.140762</td>\n",
       "      <td>-0.012658</td>\n",
       "    </tr>\n",
       "    <tr>\n",
       "      <th>2021-12-31</th>\n",
       "      <td>-0.002626</td>\n",
       "      <td>0.134943</td>\n",
       "      <td>-0.057692</td>\n",
       "    </tr>\n",
       "    <tr>\n",
       "      <th>2022-01-31</th>\n",
       "      <td>0.018886</td>\n",
       "      <td>0.122367</td>\n",
       "      <td>0.197279</td>\n",
       "    </tr>\n",
       "    <tr>\n",
       "      <th>2022-02-28</th>\n",
       "      <td>-0.002443</td>\n",
       "      <td>0.137241</td>\n",
       "      <td>0.096591</td>\n",
       "    </tr>\n",
       "    <tr>\n",
       "      <th>2022-03-31</th>\n",
       "      <td>-0.015653</td>\n",
       "      <td>0.098738</td>\n",
       "      <td>0.103627</td>\n",
       "    </tr>\n",
       "    <tr>\n",
       "      <th>2022-04-30</th>\n",
       "      <td>-0.036285</td>\n",
       "      <td>0.091863</td>\n",
       "      <td>0.291080</td>\n",
       "    </tr>\n",
       "    <tr>\n",
       "      <th>2022-05-31</th>\n",
       "      <td>-0.006274</td>\n",
       "      <td>0.094072</td>\n",
       "      <td>0.054545</td>\n",
       "    </tr>\n",
       "    <tr>\n",
       "      <th>2022-06-30</th>\n",
       "      <td>-0.008759</td>\n",
       "      <td>0.089487</td>\n",
       "      <td>0.082759</td>\n",
       "    </tr>\n",
       "    <tr>\n",
       "      <th>2022-07-31</th>\n",
       "      <td>0.014208</td>\n",
       "      <td>0.087030</td>\n",
       "      <td>-0.076433</td>\n",
       "    </tr>\n",
       "    <tr>\n",
       "      <th>2022-08-31</th>\n",
       "      <td>-0.007817</td>\n",
       "      <td>0.085038</td>\n",
       "      <td>0.000000</td>\n",
       "    </tr>\n",
       "    <tr>\n",
       "      <th>2022-09-30</th>\n",
       "      <td>-0.015067</td>\n",
       "      <td>0.085683</td>\n",
       "      <td>0.213793</td>\n",
       "    </tr>\n",
       "    <tr>\n",
       "      <th>2022-10-31</th>\n",
       "      <td>-0.007454</td>\n",
       "      <td>0.078326</td>\n",
       "      <td>0.130682</td>\n",
       "    </tr>\n",
       "    <tr>\n",
       "      <th>2022-11-30</th>\n",
       "      <td>0.030948</td>\n",
       "      <td>0.068745</td>\n",
       "      <td>-0.022613</td>\n",
       "    </tr>\n",
       "    <tr>\n",
       "      <th>2022-12-31</th>\n",
       "      <td>-0.002541</td>\n",
       "      <td>0.068122</td>\n",
       "      <td>-0.069409</td>\n",
       "    </tr>\n",
       "    <tr>\n",
       "      <th>2023-01-31</th>\n",
       "      <td>0.014642</td>\n",
       "      <td>0.079403</td>\n",
       "      <td>-0.024862</td>\n",
       "    </tr>\n",
       "    <tr>\n",
       "      <th>2023-02-28</th>\n",
       "      <td>-0.003036</td>\n",
       "      <td>0.076284</td>\n",
       "      <td>0.062323</td>\n",
       "    </tr>\n",
       "    <tr>\n",
       "      <th>2023-03-31</th>\n",
       "      <td>0.014437</td>\n",
       "      <td>0.062719</td>\n",
       "      <td>-0.024000</td>\n",
       "    </tr>\n",
       "    <tr>\n",
       "      <th>2023-04-30</th>\n",
       "      <td>0.008253</td>\n",
       "      <td>0.060847</td>\n",
       "      <td>-0.054645</td>\n",
       "    </tr>\n",
       "    <tr>\n",
       "      <th>2023-05-31</th>\n",
       "      <td>-0.006109</td>\n",
       "      <td>0.058845</td>\n",
       "      <td>0.031792</td>\n",
       "    </tr>\n",
       "    <tr>\n",
       "      <th>2023-06-30</th>\n",
       "      <td>0.012269</td>\n",
       "      <td>0.053299</td>\n",
       "      <td>0.050420</td>\n",
       "    </tr>\n",
       "    <tr>\n",
       "      <th>2023-07-31</th>\n",
       "      <td>0.001469</td>\n",
       "      <td>0.059181</td>\n",
       "      <td>0.040000</td>\n",
       "    </tr>\n",
       "    <tr>\n",
       "      <th>2023-08-31</th>\n",
       "      <td>-0.001597</td>\n",
       "      <td>0.054227</td>\n",
       "      <td>0.069231</td>\n",
       "    </tr>\n",
       "    <tr>\n",
       "      <th>2023-09-30</th>\n",
       "      <td>-0.002709</td>\n",
       "      <td>0.055465</td>\n",
       "      <td>0.050360</td>\n",
       "    </tr>\n",
       "    <tr>\n",
       "      <th>2023-10-31</th>\n",
       "      <td>0.006475</td>\n",
       "      <td>0.050890</td>\n",
       "      <td>0.095890</td>\n",
       "    </tr>\n",
       "    <tr>\n",
       "      <th>2023-11-30</th>\n",
       "      <td>0.003784</td>\n",
       "      <td>0.056476</td>\n",
       "      <td>-0.062500</td>\n",
       "    </tr>\n",
       "    <tr>\n",
       "      <th>2023-12-31</th>\n",
       "      <td>-0.002826</td>\n",
       "      <td>0.059637</td>\n",
       "      <td>-0.106667</td>\n",
       "    </tr>\n",
       "    <tr>\n",
       "      <th>2024-01-31</th>\n",
       "      <td>-0.016106</td>\n",
       "      <td>0.043797</td>\n",
       "      <td>0.009950</td>\n",
       "    </tr>\n",
       "    <tr>\n",
       "      <th>2024-02-29</th>\n",
       "      <td>0.005229</td>\n",
       "      <td>0.045883</td>\n",
       "      <td>0.036946</td>\n",
       "    </tr>\n",
       "    <tr>\n",
       "      <th>2024-03-31</th>\n",
       "      <td>0.000000</td>\n",
       "      <td>0.053663</td>\n",
       "      <td>0.000000</td>\n",
       "    </tr>\n",
       "    <tr>\n",
       "      <th>2024-04-30</th>\n",
       "      <td>-0.015731</td>\n",
       "      <td>0.051128</td>\n",
       "      <td>0.078385</td>\n",
       "    </tr>\n",
       "    <tr>\n",
       "      <th>2024-05-31</th>\n",
       "      <td>0.008028</td>\n",
       "      <td>0.053162</td>\n",
       "      <td>-0.013216</td>\n",
       "    </tr>\n",
       "    <tr>\n",
       "      <th>2024-06-30</th>\n",
       "      <td>-0.004084</td>\n",
       "      <td>0.051857</td>\n",
       "      <td>-0.037946</td>\n",
       "    </tr>\n",
       "  </tbody>\n",
       "</table>\n",
       "</div>"
      ],
      "text/plain": [
       "            S&P 500 Returns  PCE Returns  10-Year Bond Returns\n",
       "DATE                                                          \n",
       "2020-09-30         0.008254     0.006829              0.046154\n",
       "2020-10-31        -0.012130     0.008125              0.161765\n",
       "2020-11-30        -0.004595    -0.000191              0.101266\n",
       "2020-12-31         0.006439     0.004104              0.068966\n",
       "2021-01-31        -0.019312     0.015632              0.161290\n",
       "2021-02-28        -0.004750     0.009284              0.166667\n",
       "2021-03-31         0.003623     0.135185              0.277778\n",
       "2021-04-30        -0.007195     0.296509              0.018634\n",
       "2021-05-31         0.000000     0.199119             -0.012195\n",
       "2021-06-30         0.001328     0.148384             -0.061728\n",
       "2021-07-31        -0.005406     0.130605             -0.131579\n",
       "2021-08-31        -0.001349     0.130105             -0.030303\n",
       "2021-09-30        -0.011910     0.118997              0.070312\n",
       "2021-10-31         0.001949     0.129998              0.153285\n",
       "2021-11-30        -0.018961     0.140762             -0.012658\n",
       "2021-12-31        -0.002626     0.134943             -0.057692\n",
       "2022-01-31         0.018886     0.122367              0.197279\n",
       "2022-02-28        -0.002443     0.137241              0.096591\n",
       "2022-03-31        -0.015653     0.098738              0.103627\n",
       "2022-04-30        -0.036285     0.091863              0.291080\n",
       "2022-05-31        -0.006274     0.094072              0.054545\n",
       "2022-06-30        -0.008759     0.089487              0.082759\n",
       "2022-07-31         0.014208     0.087030             -0.076433\n",
       "2022-08-31        -0.007817     0.085038              0.000000\n",
       "2022-09-30        -0.015067     0.085683              0.213793\n",
       "2022-10-31        -0.007454     0.078326              0.130682\n",
       "2022-11-30         0.030948     0.068745             -0.022613\n",
       "2022-12-31        -0.002541     0.068122             -0.069409\n",
       "2023-01-31         0.014642     0.079403             -0.024862\n",
       "2023-02-28        -0.003036     0.076284              0.062323\n",
       "2023-03-31         0.014437     0.062719             -0.024000\n",
       "2023-04-30         0.008253     0.060847             -0.054645\n",
       "2023-05-31        -0.006109     0.058845              0.031792\n",
       "2023-06-30         0.012269     0.053299              0.050420\n",
       "2023-07-31         0.001469     0.059181              0.040000\n",
       "2023-08-31        -0.001597     0.054227              0.069231\n",
       "2023-09-30        -0.002709     0.055465              0.050360\n",
       "2023-10-31         0.006475     0.050890              0.095890\n",
       "2023-11-30         0.003784     0.056476             -0.062500\n",
       "2023-12-31        -0.002826     0.059637             -0.106667\n",
       "2024-01-31        -0.016106     0.043797              0.009950\n",
       "2024-02-29         0.005229     0.045883              0.036946\n",
       "2024-03-31         0.000000     0.053663              0.000000\n",
       "2024-04-30        -0.015731     0.051128              0.078385\n",
       "2024-05-31         0.008028     0.053162             -0.013216\n",
       "2024-06-30        -0.004084     0.051857             -0.037946"
      ]
     },
     "execution_count": 22,
     "metadata": {},
     "output_type": "execute_result"
    }
   ],
   "source": [
    "combined_data = combined_data[13:-2]\n",
    "combined_data"
   ]
  },
  {
   "cell_type": "code",
   "execution_count": 25,
   "metadata": {},
   "outputs": [
    {
     "data": {
      "text/plain": [
       "[<matplotlib.lines.Line2D at 0x233b76ef5b0>]"
      ]
     },
     "execution_count": 25,
     "metadata": {},
     "output_type": "execute_result"
    },
    {
     "data": {
      "image/png": "[encoded data removed]",
      "text/plain": [
       "<Figure size 640x480 with 1 Axes>"
      ]
     },
     "metadata": {},
     "output_type": "display_data"
    }
   ],
   "source": [
    "plt.plot(combined_data[\"PCE Returns\"])"
   ]
  },
  {
   "cell_type": "code",
   "execution_count": 24,
   "metadata": {},
   "outputs": [
    {
     "data": {
      "text/plain": [
       "[<matplotlib.lines.Line2D at 0x233b6516250>]"
      ]
     },
     "execution_count": 24,
     "metadata": {},
     "output_type": "execute_result"
    },
    {
     "data": {
      "image/png": "[encoded data removed]",
      "text/plain": [
       "<Figure size 640x480 with 1 Axes>"
      ]
     },
     "metadata": {},
     "output_type": "display_data"
    }
   ],
   "source": [
    "plt.plot(combined_data[\"10-Year Bond Returns\"])"
   ]
  },
  {
   "cell_type": "code",
   "execution_count": 23,
   "metadata": {},
   "outputs": [
    {
     "data": {
      "text/plain": [
       "[<matplotlib.lines.Line2D at 0x233b641c2b0>]"
      ]
     },
     "execution_count": 23,
     "metadata": {},
     "output_type": "execute_result"
    },
    {
     "data": {
      "image/png": "[encoded data removed]",
      "text/plain": [
       "<Figure size 640x480 with 1 Axes>"
      ]
     },
     "metadata": {},
     "output_type": "display_data"
    }
   ],
   "source": [
    "plt.plot(combined_data[\"S&P 500 Returns\"])"
   ]
  },
  {
   "cell_type": "code",
   "execution_count": null,
   "metadata": {},
   "outputs": [],
   "source": [
    "\n",
    "# Cargamos los datos y cambiamos los nombres de las columnas\n",
    "datos1 = pd.read_excel('GMM_datos.xlsx', index_col='Date')\n",
    "datos1.columns = ['AC_t', 'r_e', '10y']"
   ]
  },
  {
   "cell_type": "code",
   "execution_count": 53,
   "metadata": {},
   "outputs": [
    {
     "ename": "AttributeError",
     "evalue": "'numpy.ndarray' object has no attribute 'columns'",
     "output_type": "error",
     "traceback": [
      "\u001b[1;31m---------------------------------------------------------------------------\u001b[0m",
      "\u001b[1;31mAttributeError\u001b[0m                            Traceback (most recent call last)",
      "\u001b[1;32m~\\AppData\\Local\\Temp\\ipykernel_20168\\3299833882.py\u001b[0m in \u001b[0;36m<module>\u001b[1;34m\u001b[0m\n\u001b[0;32m      1\u001b[0m \u001b[0mdatos1\u001b[0m \u001b[1;33m=\u001b[0m \u001b[0mnp\u001b[0m\u001b[1;33m.\u001b[0m\u001b[0mrandom\u001b[0m\u001b[1;33m.\u001b[0m\u001b[0mrandn\u001b[0m\u001b[1;33m(\u001b[0m\u001b[1;36m39\u001b[0m\u001b[1;33m,\u001b[0m\u001b[1;36m3\u001b[0m\u001b[1;33m)\u001b[0m\u001b[1;33m\u001b[0m\u001b[1;33m\u001b[0m\u001b[0m\n\u001b[1;32m----> 2\u001b[1;33m \u001b[0mdatos1\u001b[0m\u001b[1;33m.\u001b[0m\u001b[0mcolumns\u001b[0m \u001b[1;33m=\u001b[0m \u001b[1;33m[\u001b[0m\u001b[1;34m'AC_t'\u001b[0m\u001b[1;33m,\u001b[0m \u001b[1;34m'r_e'\u001b[0m\u001b[1;33m,\u001b[0m \u001b[1;34m'10y'\u001b[0m\u001b[1;33m]\u001b[0m\u001b[1;33m\u001b[0m\u001b[1;33m\u001b[0m\u001b[0m\n\u001b[0m",
      "\u001b[1;31mAttributeError\u001b[0m: 'numpy.ndarray' object has no attribute 'columns'"
     ]
    }
   ],
   "source": [
    "datos1 = np.random.randn(39,3)\n",
    "datos1.columns = ['AC_t', 'r_e', '10y']"
   ]
  },
  {
   "cell_type": "code",
   "execution_count": 46,
   "metadata": {},
   "outputs": [
    {
     "data": {
      "text/plain": [
       "array([[ 8.25370937e-03,  6.82898678e-03,  4.61538462e-02],\n",
       "       [-1.21295063e-02,  8.12534284e-03,  1.61764706e-01],\n",
       "       [-4.59548971e-03, -1.90753887e-04,  1.01265823e-01],\n",
       "       [ 6.43883774e-03,  4.10411565e-03,  6.89655172e-02],\n",
       "       [-1.93115029e-02,  1.56320660e-02,  1.61290323e-01],\n",
       "       [-4.75016582e-03,  9.28382858e-03,  1.66666667e-01],\n",
       "       [ 3.62253856e-03,  1.35184514e-01,  2.77777778e-01],\n",
       "       [-7.19463750e-03,  2.96508918e-01,  1.86335404e-02],\n",
       "       [ 0.00000000e+00,  1.99118584e-01, -1.21951220e-02],\n",
       "       [ 1.32811408e-03,  1.48384199e-01, -6.17283951e-02],\n",
       "       [-5.40601699e-03,  1.30604616e-01, -1.31578947e-01],\n",
       "       [-1.34914624e-03,  1.30104516e-01, -3.03030303e-02],\n",
       "       [-1.19097319e-02,  1.18996929e-01,  7.03125000e-02],\n",
       "       [ 1.94934318e-03,  1.29998300e-01,  1.53284672e-01],\n",
       "       [-1.89613062e-02,  1.40762343e-01, -1.26582278e-02],\n",
       "       [-2.62622077e-03,  1.34943047e-01, -5.76923077e-02],\n",
       "       [ 1.88860183e-02,  1.22367468e-01,  1.97278912e-01],\n",
       "       [-2.44261230e-03,  1.37240604e-01,  9.65909091e-02],\n",
       "       [-1.56525329e-02,  9.87379931e-02,  1.03626943e-01],\n",
       "       [-3.62845481e-02,  9.18626727e-02,  2.91079812e-01],\n",
       "       [-6.27428912e-03,  9.40717432e-02,  5.45454545e-02],\n",
       "       [-8.75922730e-03,  8.94869168e-02,  8.27586207e-02],\n",
       "       [ 1.42077335e-02,  8.70297447e-02, -7.64331210e-02],\n",
       "       [-7.81704698e-03,  8.50382691e-02,  0.00000000e+00],\n",
       "       [-1.50667359e-02,  8.56825763e-02,  2.13793103e-01],\n",
       "       [-7.45438419e-03,  7.83264515e-02,  1.30681818e-01],\n",
       "       [ 3.09478147e-02,  6.87449228e-02, -2.26130653e-02],\n",
       "       [-2.54073489e-03,  6.81222915e-02, -6.94087404e-02],\n",
       "       [ 1.46424509e-02,  7.94026740e-02, -2.48618785e-02],\n",
       "       [-3.03597975e-03,  7.62836991e-02,  6.23229462e-02],\n",
       "       [ 1.44365476e-02,  6.27194308e-02, -2.40000000e-02],\n",
       "       [ 8.25323129e-03,  6.08474625e-02, -5.46448087e-02],\n",
       "       [-6.10863817e-03,  5.88445078e-02,  3.17919075e-02],\n",
       "       [ 1.22690177e-02,  5.32991453e-02,  5.04201681e-02],\n",
       "       [ 1.46871720e-03,  5.91806976e-02,  4.00000000e-02],\n",
       "       [-1.59694521e-03,  5.42272866e-02,  6.92307692e-02],\n",
       "       [-2.70949136e-03,  5.54650640e-02,  5.03597122e-02],\n",
       "       [ 6.47496172e-03,  5.08900313e-02,  9.58904110e-02],\n",
       "       [ 3.78413301e-03,  5.64761772e-02, -6.25000000e-02],\n",
       "       [-2.82647099e-03,  5.96368622e-02, -1.06666667e-01],\n",
       "       [-1.61056819e-02,  4.37969017e-02,  9.95024876e-03],\n",
       "       [ 5.22904437e-03,  4.58830924e-02,  3.69458128e-02],\n",
       "       [ 0.00000000e+00,  5.36630457e-02,  0.00000000e+00],\n",
       "       [-1.57305172e-02,  5.11277622e-02,  7.83847981e-02],\n",
       "       [ 8.02791721e-03,  5.31622464e-02, -1.32158590e-02],\n",
       "       [-4.08362774e-03,  5.18571413e-02, -3.79464286e-02]])"
      ]
     },
     "execution_count": 46,
     "metadata": {},
     "output_type": "execute_result"
    }
   ],
   "source": [
    "np.array(datos1)"
   ]
  },
  {
   "cell_type": "markdown",
   "metadata": {},
   "source": [
    "En el stochastic discount factor tenemos dos parámetros, r y β, pero solo estamos utilizando una ecuación, la serie de los retornos de la BVL. Con solo una serie, solo podemos identificar un parámetro en el mejor de los casos. Por este motivo, debemos fijar el valor de alguno de los parámetros.\n",
    "\n",
    "Como queremos ver estimar el valor de r, vamos a fijar un valor para β que sea consistente con la teoría que hemos estado viendo.\n"
   ]
  },
  {
   "cell_type": "code",
   "execution_count": 40,
   "metadata": {},
   "outputs": [],
   "source": [
    "# Fijamos el valor de β\n",
    "β = 0.96"
   ]
  },
  {
   "cell_type": "code",
   "execution_count": 33,
   "metadata": {},
   "outputs": [],
   "source": [
    "# Definimos nuestra función que vamos a utilizar\n",
    "def GMM1(gamma):\n",
    "    y = gamma  # Este valor se da a la función como initial guess\n",
    "    sdf = β * datos1['AC_t']**(-y)\n",
    "    f = sdf * datos1['r_e'] - 1\n",
    "    T = len(f)\n",
    "    V = np.linalg.inv(np.cov(f.T))\n",
    "    V = np.eye(len(f))\n",
    "    g = sum(f) / T\n",
    "    return g**2"
   ]
  },
  {
   "cell_type": "code",
   "execution_count": 41,
   "metadata": {},
   "outputs": [
    {
     "name": "stderr",
     "output_type": "stream",
     "text": [
      "C:\\Users\\HP SUPPORT\\AppData\\Roaming\\Python\\Python39\\site-packages\\numpy\\lib\\function_base.py:2742: RuntimeWarning: invalid value encountered in subtract\n",
      "  X -= avg[:, None]\n"
     ]
    },
    {
     "ename": "LinAlgError",
     "evalue": "0-dimensional array given. Array must be at least two-dimensional",
     "output_type": "error",
     "traceback": [
      "\u001b[1;31m---------------------------------------------------------------------------\u001b[0m",
      "\u001b[1;31mLinAlgError\u001b[0m                               Traceback (most recent call last)",
      "\u001b[1;32m~\\AppData\\Local\\Temp\\ipykernel_20168\\4058030593.py\u001b[0m in \u001b[0;36m<module>\u001b[1;34m\u001b[0m\n\u001b[0;32m      1\u001b[0m \u001b[1;31m# Hacemos un initial guess para y y usamos la función fmin\u001b[0m\u001b[1;33m\u001b[0m\u001b[1;33m\u001b[0m\u001b[0m\n\u001b[0;32m      2\u001b[0m \u001b[0mgamma1\u001b[0m \u001b[1;33m=\u001b[0m \u001b[1;36m100\u001b[0m\u001b[1;33m\u001b[0m\u001b[1;33m\u001b[0m\u001b[0m\n\u001b[1;32m----> 3\u001b[1;33m \u001b[0mxopt1\u001b[0m \u001b[1;33m=\u001b[0m \u001b[0moptimize\u001b[0m\u001b[1;33m.\u001b[0m\u001b[0mfmin\u001b[0m\u001b[1;33m(\u001b[0m\u001b[0mGMM1\u001b[0m\u001b[1;33m,\u001b[0m \u001b[0mgamma1\u001b[0m\u001b[1;33m,\u001b[0m \u001b[0mxtol\u001b[0m\u001b[1;33m=\u001b[0m\u001b[1;36m1e-12\u001b[0m\u001b[1;33m)\u001b[0m\u001b[1;33m\u001b[0m\u001b[1;33m\u001b[0m\u001b[0m\n\u001b[0m",
      "\u001b[1;32m~\\AppData\\Roaming\\Python\\Python39\\site-packages\\scipy\\optimize\\_optimize.py\u001b[0m in \u001b[0;36mfmin\u001b[1;34m(func, x0, args, xtol, ftol, maxiter, maxfun, full_output, disp, retall, callback, initial_simplex)\u001b[0m\n\u001b[0;32m    765\u001b[0m \u001b[1;33m\u001b[0m\u001b[0m\n\u001b[0;32m    766\u001b[0m     \u001b[0mcallback\u001b[0m \u001b[1;33m=\u001b[0m \u001b[0m_wrap_callback\u001b[0m\u001b[1;33m(\u001b[0m\u001b[0mcallback\u001b[0m\u001b[1;33m)\u001b[0m\u001b[1;33m\u001b[0m\u001b[1;33m\u001b[0m\u001b[0m\n\u001b[1;32m--> 767\u001b[1;33m     \u001b[0mres\u001b[0m \u001b[1;33m=\u001b[0m \u001b[0m_minimize_neldermead\u001b[0m\u001b[1;33m(\u001b[0m\u001b[0mfunc\u001b[0m\u001b[1;33m,\u001b[0m \u001b[0mx0\u001b[0m\u001b[1;33m,\u001b[0m \u001b[0margs\u001b[0m\u001b[1;33m,\u001b[0m \u001b[0mcallback\u001b[0m\u001b[1;33m=\u001b[0m\u001b[0mcallback\u001b[0m\u001b[1;33m,\u001b[0m \u001b[1;33m**\u001b[0m\u001b[0mopts\u001b[0m\u001b[1;33m)\u001b[0m\u001b[1;33m\u001b[0m\u001b[1;33m\u001b[0m\u001b[0m\n\u001b[0m\u001b[0;32m    768\u001b[0m     \u001b[1;32mif\u001b[0m \u001b[0mfull_output\u001b[0m\u001b[1;33m:\u001b[0m\u001b[1;33m\u001b[0m\u001b[1;33m\u001b[0m\u001b[0m\n\u001b[0;32m    769\u001b[0m         \u001b[0mretlist\u001b[0m \u001b[1;33m=\u001b[0m \u001b[0mres\u001b[0m\u001b[1;33m[\u001b[0m\u001b[1;34m'x'\u001b[0m\u001b[1;33m]\u001b[0m\u001b[1;33m,\u001b[0m \u001b[0mres\u001b[0m\u001b[1;33m[\u001b[0m\u001b[1;34m'fun'\u001b[0m\u001b[1;33m]\u001b[0m\u001b[1;33m,\u001b[0m \u001b[0mres\u001b[0m\u001b[1;33m[\u001b[0m\u001b[1;34m'nit'\u001b[0m\u001b[1;33m]\u001b[0m\u001b[1;33m,\u001b[0m \u001b[0mres\u001b[0m\u001b[1;33m[\u001b[0m\u001b[1;34m'nfev'\u001b[0m\u001b[1;33m]\u001b[0m\u001b[1;33m,\u001b[0m \u001b[0mres\u001b[0m\u001b[1;33m[\u001b[0m\u001b[1;34m'status'\u001b[0m\u001b[1;33m]\u001b[0m\u001b[1;33m\u001b[0m\u001b[1;33m\u001b[0m\u001b[0m\n",
      "\u001b[1;32m~\\AppData\\Roaming\\Python\\Python39\\site-packages\\scipy\\optimize\\_optimize.py\u001b[0m in \u001b[0;36m_minimize_neldermead\u001b[1;34m(func, x0, args, callback, maxiter, maxfev, disp, return_all, initial_simplex, xatol, fatol, adaptive, bounds, **unknown_options)\u001b[0m\n\u001b[0;32m    921\u001b[0m     \u001b[1;32mtry\u001b[0m\u001b[1;33m:\u001b[0m\u001b[1;33m\u001b[0m\u001b[1;33m\u001b[0m\u001b[0m\n\u001b[0;32m    922\u001b[0m         \u001b[1;32mfor\u001b[0m \u001b[0mk\u001b[0m \u001b[1;32min\u001b[0m \u001b[0mrange\u001b[0m\u001b[1;33m(\u001b[0m\u001b[0mN\u001b[0m \u001b[1;33m+\u001b[0m \u001b[1;36m1\u001b[0m\u001b[1;33m)\u001b[0m\u001b[1;33m:\u001b[0m\u001b[1;33m\u001b[0m\u001b[1;33m\u001b[0m\u001b[0m\n\u001b[1;32m--> 923\u001b[1;33m             \u001b[0mfsim\u001b[0m\u001b[1;33m[\u001b[0m\u001b[0mk\u001b[0m\u001b[1;33m]\u001b[0m \u001b[1;33m=\u001b[0m \u001b[0mfunc\u001b[0m\u001b[1;33m(\u001b[0m\u001b[0msim\u001b[0m\u001b[1;33m[\u001b[0m\u001b[0mk\u001b[0m\u001b[1;33m]\u001b[0m\u001b[1;33m)\u001b[0m\u001b[1;33m\u001b[0m\u001b[1;33m\u001b[0m\u001b[0m\n\u001b[0m\u001b[0;32m    924\u001b[0m     \u001b[1;32mexcept\u001b[0m \u001b[0m_MaxFuncCallError\u001b[0m\u001b[1;33m:\u001b[0m\u001b[1;33m\u001b[0m\u001b[1;33m\u001b[0m\u001b[0m\n\u001b[0;32m    925\u001b[0m         \u001b[1;32mpass\u001b[0m\u001b[1;33m\u001b[0m\u001b[1;33m\u001b[0m\u001b[0m\n",
      "\u001b[1;32m~\\AppData\\Roaming\\Python\\Python39\\site-packages\\scipy\\optimize\\_optimize.py\u001b[0m in \u001b[0;36mfunction_wrapper\u001b[1;34m(x, *wrapper_args)\u001b[0m\n\u001b[0;32m    638\u001b[0m         \u001b[0mncalls\u001b[0m\u001b[1;33m[\u001b[0m\u001b[1;36m0\u001b[0m\u001b[1;33m]\u001b[0m \u001b[1;33m+=\u001b[0m \u001b[1;36m1\u001b[0m\u001b[1;33m\u001b[0m\u001b[1;33m\u001b[0m\u001b[0m\n\u001b[0;32m    639\u001b[0m         \u001b[1;31m# A copy of x is sent to the user function (gh13740)\u001b[0m\u001b[1;33m\u001b[0m\u001b[1;33m\u001b[0m\u001b[0m\n\u001b[1;32m--> 640\u001b[1;33m         \u001b[0mfx\u001b[0m \u001b[1;33m=\u001b[0m \u001b[0mfunction\u001b[0m\u001b[1;33m(\u001b[0m\u001b[0mnp\u001b[0m\u001b[1;33m.\u001b[0m\u001b[0mcopy\u001b[0m\u001b[1;33m(\u001b[0m\u001b[0mx\u001b[0m\u001b[1;33m)\u001b[0m\u001b[1;33m,\u001b[0m \u001b[1;33m*\u001b[0m\u001b[1;33m(\u001b[0m\u001b[0mwrapper_args\u001b[0m \u001b[1;33m+\u001b[0m \u001b[0margs\u001b[0m\u001b[1;33m)\u001b[0m\u001b[1;33m)\u001b[0m\u001b[1;33m\u001b[0m\u001b[1;33m\u001b[0m\u001b[0m\n\u001b[0m\u001b[0;32m    641\u001b[0m         \u001b[1;31m# Ideally, we'd like to a have a true scalar returned from f(x). For\u001b[0m\u001b[1;33m\u001b[0m\u001b[1;33m\u001b[0m\u001b[0m\n\u001b[0;32m    642\u001b[0m         \u001b[1;31m# backwards-compatibility, also allow np.array([1.3]),\u001b[0m\u001b[1;33m\u001b[0m\u001b[1;33m\u001b[0m\u001b[0m\n",
      "\u001b[1;32m~\\AppData\\Local\\Temp\\ipykernel_20168\\1700600122.py\u001b[0m in \u001b[0;36mGMM1\u001b[1;34m(gamma)\u001b[0m\n\u001b[0;32m      5\u001b[0m     \u001b[0mf\u001b[0m \u001b[1;33m=\u001b[0m \u001b[0msdf\u001b[0m \u001b[1;33m*\u001b[0m \u001b[0mdatos1\u001b[0m\u001b[1;33m[\u001b[0m\u001b[1;34m'r_e'\u001b[0m\u001b[1;33m]\u001b[0m \u001b[1;33m-\u001b[0m \u001b[1;36m1\u001b[0m\u001b[1;33m\u001b[0m\u001b[1;33m\u001b[0m\u001b[0m\n\u001b[0;32m      6\u001b[0m     \u001b[0mT\u001b[0m \u001b[1;33m=\u001b[0m \u001b[0mlen\u001b[0m\u001b[1;33m(\u001b[0m\u001b[0mf\u001b[0m\u001b[1;33m)\u001b[0m\u001b[1;33m\u001b[0m\u001b[1;33m\u001b[0m\u001b[0m\n\u001b[1;32m----> 7\u001b[1;33m     \u001b[0mV\u001b[0m \u001b[1;33m=\u001b[0m \u001b[0mnp\u001b[0m\u001b[1;33m.\u001b[0m\u001b[0mlinalg\u001b[0m\u001b[1;33m.\u001b[0m\u001b[0minv\u001b[0m\u001b[1;33m(\u001b[0m\u001b[0mnp\u001b[0m\u001b[1;33m.\u001b[0m\u001b[0mcov\u001b[0m\u001b[1;33m(\u001b[0m\u001b[0mf\u001b[0m\u001b[1;33m.\u001b[0m\u001b[0mT\u001b[0m\u001b[1;33m)\u001b[0m\u001b[1;33m)\u001b[0m\u001b[1;33m\u001b[0m\u001b[1;33m\u001b[0m\u001b[0m\n\u001b[0m\u001b[0;32m      8\u001b[0m     \u001b[0mV\u001b[0m \u001b[1;33m=\u001b[0m \u001b[0mnp\u001b[0m\u001b[1;33m.\u001b[0m\u001b[0meye\u001b[0m\u001b[1;33m(\u001b[0m\u001b[0mlen\u001b[0m\u001b[1;33m(\u001b[0m\u001b[0mf\u001b[0m\u001b[1;33m)\u001b[0m\u001b[1;33m)\u001b[0m\u001b[1;33m\u001b[0m\u001b[1;33m\u001b[0m\u001b[0m\n\u001b[0;32m      9\u001b[0m     \u001b[0mg\u001b[0m \u001b[1;33m=\u001b[0m \u001b[0msum\u001b[0m\u001b[1;33m(\u001b[0m\u001b[0mf\u001b[0m\u001b[1;33m)\u001b[0m \u001b[1;33m/\u001b[0m \u001b[0mT\u001b[0m\u001b[1;33m\u001b[0m\u001b[1;33m\u001b[0m\u001b[0m\n",
      "\u001b[1;32m~\\AppData\\Roaming\\Python\\Python39\\site-packages\\numpy\\linalg\\linalg.py\u001b[0m in \u001b[0;36minv\u001b[1;34m(a)\u001b[0m\n\u001b[0;32m    553\u001b[0m     \"\"\"\n\u001b[0;32m    554\u001b[0m     \u001b[0ma\u001b[0m\u001b[1;33m,\u001b[0m \u001b[0mwrap\u001b[0m \u001b[1;33m=\u001b[0m \u001b[0m_makearray\u001b[0m\u001b[1;33m(\u001b[0m\u001b[0ma\u001b[0m\u001b[1;33m)\u001b[0m\u001b[1;33m\u001b[0m\u001b[1;33m\u001b[0m\u001b[0m\n\u001b[1;32m--> 555\u001b[1;33m     \u001b[0m_assert_stacked_2d\u001b[0m\u001b[1;33m(\u001b[0m\u001b[0ma\u001b[0m\u001b[1;33m)\u001b[0m\u001b[1;33m\u001b[0m\u001b[1;33m\u001b[0m\u001b[0m\n\u001b[0m\u001b[0;32m    556\u001b[0m     \u001b[0m_assert_stacked_square\u001b[0m\u001b[1;33m(\u001b[0m\u001b[0ma\u001b[0m\u001b[1;33m)\u001b[0m\u001b[1;33m\u001b[0m\u001b[1;33m\u001b[0m\u001b[0m\n\u001b[0;32m    557\u001b[0m     \u001b[0mt\u001b[0m\u001b[1;33m,\u001b[0m \u001b[0mresult_t\u001b[0m \u001b[1;33m=\u001b[0m \u001b[0m_commonType\u001b[0m\u001b[1;33m(\u001b[0m\u001b[0ma\u001b[0m\u001b[1;33m)\u001b[0m\u001b[1;33m\u001b[0m\u001b[1;33m\u001b[0m\u001b[0m\n",
      "\u001b[1;32m~\\AppData\\Roaming\\Python\\Python39\\site-packages\\numpy\\linalg\\linalg.py\u001b[0m in \u001b[0;36m_assert_stacked_2d\u001b[1;34m(*arrays)\u001b[0m\n\u001b[0;32m    204\u001b[0m     \u001b[1;32mfor\u001b[0m \u001b[0ma\u001b[0m \u001b[1;32min\u001b[0m \u001b[0marrays\u001b[0m\u001b[1;33m:\u001b[0m\u001b[1;33m\u001b[0m\u001b[1;33m\u001b[0m\u001b[0m\n\u001b[0;32m    205\u001b[0m         \u001b[1;32mif\u001b[0m \u001b[0ma\u001b[0m\u001b[1;33m.\u001b[0m\u001b[0mndim\u001b[0m \u001b[1;33m<\u001b[0m \u001b[1;36m2\u001b[0m\u001b[1;33m:\u001b[0m\u001b[1;33m\u001b[0m\u001b[1;33m\u001b[0m\u001b[0m\n\u001b[1;32m--> 206\u001b[1;33m             raise LinAlgError('%d-dimensional array given. Array must be '\n\u001b[0m\u001b[0;32m    207\u001b[0m                     'at least two-dimensional' % a.ndim)\n\u001b[0;32m    208\u001b[0m \u001b[1;33m\u001b[0m\u001b[0m\n",
      "\u001b[1;31mLinAlgError\u001b[0m: 0-dimensional array given. Array must be at least two-dimensional"
     ]
    }
   ],
   "source": [
    "# Hacemos un initial guess para y y usamos la función fmin\n",
    "gamma1 = 100\n",
    "xopt1 = optimize.fmin(GMM1, gamma1, xtol=1e-12)"
   ]
  },
  {
   "cell_type": "code",
   "execution_count": null,
   "metadata": {},
   "outputs": [],
   "source": []
  },
  {
   "cell_type": "code",
   "execution_count": null,
   "metadata": {},
   "outputs": [],
   "source": [
    "# Extraemos los resultados del primer paso\n",
    "estimated_y1 = xopt1[0]"
   ]
  },
  {
   "cell_type": "code",
   "execution_count": null,
   "metadata": {},
   "outputs": [],
   "source": [
    "# Mostramos nuestros resultados\n",
    "print(f'Nuestro y estimado tiene un valor de {estimated_y1:.3f} (del \"first-stage\" GMM).')\n"
   ]
  },
  {
   "cell_type": "code",
   "execution_count": null,
   "metadata": {},
   "outputs": [],
   "source": [
    "# Preparamos los datos que vamos a usar ahora\n",
    "datos2 = datos1.dropna()\n",
    "\n",
    "# Definimos la función GMM2 que vamos a usar ahora\n",
    "def GMM2(parameter):\n",
    "    p = parameter[0]  # Initial guess para nuestro β\n",
    "    y = parameter[1]  # Initial guess para nuestro y\n",
    "    sdf = p * datos2['AC_t']**(-y)\n",
    "    f1 = sdf * datos2['r_e'] - 1\n",
    "    f2 = sdf * datos2['10y'] - 1\n",
    "    f = np.array([f1, f2]).T\n",
    "    T = len(f)\n",
    "    V = np.eye(len(f))\n",
    "    g = sum(f) / T\n",
    "    return g.T @ V @ g"
   ]
  },
  {
   "cell_type": "code",
   "execution_count": null,
   "metadata": {},
   "outputs": [],
   "source": [
    "# Elegimos parámetros iniciales\n",
    "param2 = [100, 1]\n",
    "\n",
    "# Usamos la función fmin para estimar β y γ\n",
    "xopt2 = optimize.fmin(GMM2, param2, xtol=1e-12)\n",
    "\n",
    "# Extraemos los resultados\n",
    "estimated_β = xopt2[0]\n",
    "estimated_y = xopt2[1]\n",
    "\n",
    "# Imprimimos los resultados\n",
    "print(f'Nuestro β estimado es {estimated_β:.3f} y nuestro γ estimado es {estimated_y:.3f} (del \"first-stage\" GMM).')"
   ]
  },
  {
   "cell_type": "code",
   "execution_count": null,
   "metadata": {},
   "outputs": [],
   "source": []
  }
 ],
 "metadata": {
  "kernelspec": {
   "display_name": "Python 3",
   "language": "python",
   "name": "python3"
  },
  "language_info": {
   "codemirror_mode": {
    "name": "ipython",
    "version": 3
   },
   "file_extension": ".py",
   "mimetype": "text/x-python",
   "name": "python",
   "nbconvert_exporter": "python",
   "pygments_lexer": "ipython3",
   "version": "3.9.13"
  }
 },
 "nbformat": 4,
 "nbformat_minor": 2
}
