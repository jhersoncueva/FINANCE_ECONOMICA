{
 "cells": [
  {
   "cell_type": "code",
   "execution_count": 1,
   "id": "09fbb5aa-a69b-4e79-8498-909653dab089",
   "metadata": {},
   "outputs": [
    {
     "name": "stderr",
     "output_type": "stream",
     "text": [
      "C:\\Users\\HP SUPPORT\\AppData\\Roaming\\Python\\Python39\\site-packages\\pandas\\core\\computation\\expressions.py:21: UserWarning: Pandas requires version '2.8.4' or newer of 'numexpr' (version '2.8.3' currently installed).\n",
      "  from pandas.core.computation.check import NUMEXPR_INSTALLED\n",
      "C:\\Users\\HP SUPPORT\\AppData\\Roaming\\Python\\Python39\\site-packages\\pandas\\core\\arrays\\masked.py:60: UserWarning: Pandas requires version '1.3.6' or newer of 'bottleneck' (version '1.3.5' currently installed).\n",
      "  from pandas.core import (\n"
     ]
    }
   ],
   "source": [
    "import pandas as pd\n",
    "import numpy as np\n",
    "from selenium.webdriver.common.by import By\n",
    "from io import StringIO\n",
    "import os\n",
    "import time\n",
    "import requests\n",
    "from selenium.webdriver.chrome.options import Options\n",
    "\n",
    "from datetime import date, timedelta\n",
    "from IPython.core.display import HTML\n",
    "\n",
    "from selenium import webdriver\n",
    "from webdriver_manager.chrome import ChromeDriverManager\n",
    "\n",
    "from bs4 import BeautifulSoup"
   ]
  },
  {
   "cell_type": "code",
   "execution_count": 2,
   "id": "fa670607-89dc-4bce-9f27-2bb3c48baca1",
   "metadata": {},
   "outputs": [],
   "source": [
    "# !pip install openpyxl\n",
    "# !pip install pandas\n",
    "# !pip install numpy"
   ]
  },
  {
   "cell_type": "code",
   "execution_count": 3,
   "id": "b569ffac-24d0-4990-97e7-ce6eb882fdee",
   "metadata": {},
   "outputs": [],
   "source": [
    "# # Install Selenium\n",
    "# !pip install selenium\n",
    "\n",
    "# # Install Webdriver Manager\n",
    "# !pip install webdriver-manager\n",
    "\n",
    "# # Check Selenium version\n",
    "# import selenium\n",
    "# selenium.__version__\n",
    "\n",
    "\n",
    "# # Optionally, update Selenium to the latest version\n",
    "# !pip install -U selenium"
   ]
  },
  {
   "cell_type": "code",
   "execution_count": 5,
   "id": "4ed922a3-2a8e-40b1-9441-1108804f3d3a",
   "metadata": {},
   "outputs": [],
   "source": [
    "driver.maximize_window()"
   ]
  },
  {
   "cell_type": "markdown",
   "id": "85a7e1b5",
   "metadata": {},
   "source": [
    "## TIPO DE CAMBIO\n",
    "## hoy"
   ]
  },
  {
   "cell_type": "code",
   "execution_count": 13,
   "id": "578d8326",
   "metadata": {},
   "outputs": [],
   "source": [
    "url = 'https://www.bcrp.gob.pe/'\n",
    "\n",
    "driver  = webdriver.Chrome()        \n",
    "driver.get( url )"
   ]
  },
  {
   "cell_type": "code",
   "execution_count": 14,
   "id": "6f256654",
   "metadata": {},
   "outputs": [],
   "source": [
    "driver.maximize_window()\n"
   ]
  },
  {
   "cell_type": "code",
   "execution_count": 15,
   "id": "497c9e4c-a382-4352-a9cf-e32f9676aa06",
   "metadata": {},
   "outputs": [
    {
     "data": {
      "text/html": [
       "<div>\n",
       "<style scoped>\n",
       "    .dataframe tbody tr th:only-of-type {\n",
       "        vertical-align: middle;\n",
       "    }\n",
       "\n",
       "    .dataframe tbody tr th {\n",
       "        vertical-align: top;\n",
       "    }\n",
       "\n",
       "    .dataframe thead th {\n",
       "        text-align: right;\n",
       "    }\n",
       "</style>\n",
       "<table border=\"1\" class=\"dataframe\">\n",
       "  <thead>\n",
       "    <tr style=\"text-align: right;\">\n",
       "      <th></th>\n",
       "      <th>Unnamed: 0</th>\n",
       "      <th>Abr. 02</th>\n",
       "      <th>Abr. 01</th>\n",
       "    </tr>\n",
       "  </thead>\n",
       "  <tbody>\n",
       "    <tr>\n",
       "      <th>0</th>\n",
       "      <td>Mí­nimo</td>\n",
       "      <td>36980</td>\n",
       "      <td>37240</td>\n",
       "    </tr>\n",
       "    <tr>\n",
       "      <th>1</th>\n",
       "      <td>Máximo</td>\n",
       "      <td>37210</td>\n",
       "      <td>37400</td>\n",
       "    </tr>\n",
       "    <tr>\n",
       "      <th>2</th>\n",
       "      <td>Promedio</td>\n",
       "      <td>37062</td>\n",
       "      <td>37301</td>\n",
       "    </tr>\n",
       "  </tbody>\n",
       "</table>\n",
       "</div>"
      ],
      "text/plain": [
       "  Unnamed: 0  Abr. 02  Abr. 01\n",
       "0    Mí­nimo    36980    37240\n",
       "1     Máximo    37210    37400\n",
       "2   Promedio    37062    37301"
      ]
     },
     "execution_count": 15,
     "metadata": {},
     "output_type": "execute_result"
    }
   ],
   "source": [
    "data = driver.find_element( By.XPATH,  '/html/body/div[4]/div/div/div/div')\n",
    "\n",
    "data_tab = data.get_attribute( 'outerHTML' )\n",
    "table_html_io = StringIO( data_tab )\n",
    "table_df      = pd.read_html( table_html_io )[ 0 ]\n",
    "table_df.head(5)"
   ]
  },
  {
   "cell_type": "code",
   "execution_count": 9,
   "id": "2e26fdd8",
   "metadata": {},
   "outputs": [
    {
     "data": {
      "text/plain": [
       "Unnamed: 0    Promedio\n",
       "Abr. 02          37062\n",
       "Abr. 01          37301\n",
       "Name: 2, dtype: object"
      ]
     },
     "execution_count": 9,
     "metadata": {},
     "output_type": "execute_result"
    }
   ],
   "source": [
    "table_df.loc[2]"
   ]
  },
  {
   "cell_type": "code",
   "execution_count": 41,
   "id": "6e9a9c67",
   "metadata": {},
   "outputs": [
    {
     "ename": "NoSuchElementException",
     "evalue": "Message: no such element: Unable to locate element: {\"method\":\"xpath\",\"selector\":\"/html/body/div[2]\"}\n  (Session info: chrome=123.0.6312.86); For documentation on this error, please visit: https://www.selenium.dev/documentation/webdriver/troubleshooting/errors#no-such-element-exception\nStacktrace:\n\tGetHandleVerifier [0x00007FF6D09A70C2+63090]\n\t(No symbol) [0x00007FF6D0912D12]\n\t(No symbol) [0x00007FF6D07AEC65]\n\t(No symbol) [0x00007FF6D07F499D]\n\t(No symbol) [0x00007FF6D07F4ADC]\n\t(No symbol) [0x00007FF6D0835B37]\n\t(No symbol) [0x00007FF6D081701F]\n\t(No symbol) [0x00007FF6D0833412]\n\t(No symbol) [0x00007FF6D0816D83]\n\t(No symbol) [0x00007FF6D07E83A8]\n\t(No symbol) [0x00007FF6D07E9441]\n\tGetHandleVerifier [0x00007FF6D0DA262D+4238301]\n\tGetHandleVerifier [0x00007FF6D0DDF78D+4488509]\n\tGetHandleVerifier [0x00007FF6D0DD7A6F+4456479]\n\tGetHandleVerifier [0x00007FF6D0A80606+953270]\n\t(No symbol) [0x00007FF6D091E5DF]\n\t(No symbol) [0x00007FF6D09192B4]\n\t(No symbol) [0x00007FF6D09193EB]\n\t(No symbol) [0x00007FF6D0909C24]\n\tBaseThreadInitThunk [0x00007FFD1331257D+29]\n\tRtlUserThreadStart [0x00007FFD143EAA58+40]\n",
     "output_type": "error",
     "traceback": [
      "\u001b[1;31m---------------------------------------------------------------------------\u001b[0m",
      "\u001b[1;31mNoSuchElementException\u001b[0m                    Traceback (most recent call last)",
      "\u001b[1;32m~\\AppData\\Local\\Temp\\ipykernel_29180\\131170308.py\u001b[0m in \u001b[0;36m<module>\u001b[1;34m\u001b[0m\n\u001b[0;32m      1\u001b[0m \u001b[1;31m## INFLACION\u001b[0m\u001b[1;33m\u001b[0m\u001b[1;33m\u001b[0m\u001b[0m\n\u001b[1;32m----> 2\u001b[1;33m \u001b[0mdata\u001b[0m \u001b[1;33m=\u001b[0m \u001b[0mdriver\u001b[0m\u001b[1;33m.\u001b[0m\u001b[0mfind_element\u001b[0m\u001b[1;33m(\u001b[0m \u001b[0mBy\u001b[0m\u001b[1;33m.\u001b[0m\u001b[0mXPATH\u001b[0m\u001b[1;33m,\u001b[0m  \u001b[1;34m'/html/body/div[2]'\u001b[0m\u001b[1;33m)\u001b[0m\u001b[1;33m\u001b[0m\u001b[1;33m\u001b[0m\u001b[0m\n\u001b[0m\u001b[0;32m      3\u001b[0m \u001b[1;33m\u001b[0m\u001b[0m\n\u001b[0;32m      4\u001b[0m \u001b[0mdata_tab\u001b[0m \u001b[1;33m=\u001b[0m \u001b[0mdata\u001b[0m\u001b[1;33m.\u001b[0m\u001b[0mget_attribute\u001b[0m\u001b[1;33m(\u001b[0m \u001b[1;34m'outerHTML'\u001b[0m \u001b[1;33m)\u001b[0m\u001b[1;33m\u001b[0m\u001b[1;33m\u001b[0m\u001b[0m\n\u001b[0;32m      5\u001b[0m \u001b[0mtable_html_io\u001b[0m \u001b[1;33m=\u001b[0m \u001b[0mStringIO\u001b[0m\u001b[1;33m(\u001b[0m \u001b[0mdata_tab\u001b[0m \u001b[1;33m)\u001b[0m\u001b[1;33m\u001b[0m\u001b[1;33m\u001b[0m\u001b[0m\n",
      "\u001b[1;32m~\\AppData\\Roaming\\Python\\Python39\\site-packages\\selenium\\webdriver\\remote\\webdriver.py\u001b[0m in \u001b[0;36mfind_element\u001b[1;34m(self, by, value)\u001b[0m\n\u001b[0;32m    740\u001b[0m             \u001b[0mvalue\u001b[0m \u001b[1;33m=\u001b[0m \u001b[1;34mf'[name=\"{value}\"]'\u001b[0m\u001b[1;33m\u001b[0m\u001b[1;33m\u001b[0m\u001b[0m\n\u001b[0;32m    741\u001b[0m \u001b[1;33m\u001b[0m\u001b[0m\n\u001b[1;32m--> 742\u001b[1;33m         \u001b[1;32mreturn\u001b[0m \u001b[0mself\u001b[0m\u001b[1;33m.\u001b[0m\u001b[0mexecute\u001b[0m\u001b[1;33m(\u001b[0m\u001b[0mCommand\u001b[0m\u001b[1;33m.\u001b[0m\u001b[0mFIND_ELEMENT\u001b[0m\u001b[1;33m,\u001b[0m \u001b[1;33m{\u001b[0m\u001b[1;34m\"using\"\u001b[0m\u001b[1;33m:\u001b[0m \u001b[0mby\u001b[0m\u001b[1;33m,\u001b[0m \u001b[1;34m\"value\"\u001b[0m\u001b[1;33m:\u001b[0m \u001b[0mvalue\u001b[0m\u001b[1;33m}\u001b[0m\u001b[1;33m)\u001b[0m\u001b[1;33m[\u001b[0m\u001b[1;34m\"value\"\u001b[0m\u001b[1;33m]\u001b[0m\u001b[1;33m\u001b[0m\u001b[1;33m\u001b[0m\u001b[0m\n\u001b[0m\u001b[0;32m    743\u001b[0m \u001b[1;33m\u001b[0m\u001b[0m\n\u001b[0;32m    744\u001b[0m     \u001b[1;32mdef\u001b[0m \u001b[0mfind_elements\u001b[0m\u001b[1;33m(\u001b[0m\u001b[0mself\u001b[0m\u001b[1;33m,\u001b[0m \u001b[0mby\u001b[0m\u001b[1;33m=\u001b[0m\u001b[0mBy\u001b[0m\u001b[1;33m.\u001b[0m\u001b[0mID\u001b[0m\u001b[1;33m,\u001b[0m \u001b[0mvalue\u001b[0m\u001b[1;33m:\u001b[0m \u001b[0mOptional\u001b[0m\u001b[1;33m[\u001b[0m\u001b[0mstr\u001b[0m\u001b[1;33m]\u001b[0m \u001b[1;33m=\u001b[0m \u001b[1;32mNone\u001b[0m\u001b[1;33m)\u001b[0m \u001b[1;33m->\u001b[0m \u001b[0mList\u001b[0m\u001b[1;33m[\u001b[0m\u001b[0mWebElement\u001b[0m\u001b[1;33m]\u001b[0m\u001b[1;33m:\u001b[0m\u001b[1;33m\u001b[0m\u001b[1;33m\u001b[0m\u001b[0m\n",
      "\u001b[1;32m~\\AppData\\Roaming\\Python\\Python39\\site-packages\\selenium\\webdriver\\remote\\webdriver.py\u001b[0m in \u001b[0;36mexecute\u001b[1;34m(self, driver_command, params)\u001b[0m\n\u001b[0;32m    346\u001b[0m         \u001b[0mresponse\u001b[0m \u001b[1;33m=\u001b[0m \u001b[0mself\u001b[0m\u001b[1;33m.\u001b[0m\u001b[0mcommand_executor\u001b[0m\u001b[1;33m.\u001b[0m\u001b[0mexecute\u001b[0m\u001b[1;33m(\u001b[0m\u001b[0mdriver_command\u001b[0m\u001b[1;33m,\u001b[0m \u001b[0mparams\u001b[0m\u001b[1;33m)\u001b[0m\u001b[1;33m\u001b[0m\u001b[1;33m\u001b[0m\u001b[0m\n\u001b[0;32m    347\u001b[0m         \u001b[1;32mif\u001b[0m \u001b[0mresponse\u001b[0m\u001b[1;33m:\u001b[0m\u001b[1;33m\u001b[0m\u001b[1;33m\u001b[0m\u001b[0m\n\u001b[1;32m--> 348\u001b[1;33m             \u001b[0mself\u001b[0m\u001b[1;33m.\u001b[0m\u001b[0merror_handler\u001b[0m\u001b[1;33m.\u001b[0m\u001b[0mcheck_response\u001b[0m\u001b[1;33m(\u001b[0m\u001b[0mresponse\u001b[0m\u001b[1;33m)\u001b[0m\u001b[1;33m\u001b[0m\u001b[1;33m\u001b[0m\u001b[0m\n\u001b[0m\u001b[0;32m    349\u001b[0m             \u001b[0mresponse\u001b[0m\u001b[1;33m[\u001b[0m\u001b[1;34m\"value\"\u001b[0m\u001b[1;33m]\u001b[0m \u001b[1;33m=\u001b[0m \u001b[0mself\u001b[0m\u001b[1;33m.\u001b[0m\u001b[0m_unwrap_value\u001b[0m\u001b[1;33m(\u001b[0m\u001b[0mresponse\u001b[0m\u001b[1;33m.\u001b[0m\u001b[0mget\u001b[0m\u001b[1;33m(\u001b[0m\u001b[1;34m\"value\"\u001b[0m\u001b[1;33m,\u001b[0m \u001b[1;32mNone\u001b[0m\u001b[1;33m)\u001b[0m\u001b[1;33m)\u001b[0m\u001b[1;33m\u001b[0m\u001b[1;33m\u001b[0m\u001b[0m\n\u001b[0;32m    350\u001b[0m             \u001b[1;32mreturn\u001b[0m \u001b[0mresponse\u001b[0m\u001b[1;33m\u001b[0m\u001b[1;33m\u001b[0m\u001b[0m\n",
      "\u001b[1;32m~\\AppData\\Roaming\\Python\\Python39\\site-packages\\selenium\\webdriver\\remote\\errorhandler.py\u001b[0m in \u001b[0;36mcheck_response\u001b[1;34m(self, response)\u001b[0m\n\u001b[0;32m    227\u001b[0m                 \u001b[0malert_text\u001b[0m \u001b[1;33m=\u001b[0m \u001b[0mvalue\u001b[0m\u001b[1;33m[\u001b[0m\u001b[1;34m\"alert\"\u001b[0m\u001b[1;33m]\u001b[0m\u001b[1;33m.\u001b[0m\u001b[0mget\u001b[0m\u001b[1;33m(\u001b[0m\u001b[1;34m\"text\"\u001b[0m\u001b[1;33m)\u001b[0m\u001b[1;33m\u001b[0m\u001b[1;33m\u001b[0m\u001b[0m\n\u001b[0;32m    228\u001b[0m             \u001b[1;32mraise\u001b[0m \u001b[0mexception_class\u001b[0m\u001b[1;33m(\u001b[0m\u001b[0mmessage\u001b[0m\u001b[1;33m,\u001b[0m \u001b[0mscreen\u001b[0m\u001b[1;33m,\u001b[0m \u001b[0mstacktrace\u001b[0m\u001b[1;33m,\u001b[0m \u001b[0malert_text\u001b[0m\u001b[1;33m)\u001b[0m  \u001b[1;31m# type: ignore[call-arg]  # mypy is not smart enough here\u001b[0m\u001b[1;33m\u001b[0m\u001b[1;33m\u001b[0m\u001b[0m\n\u001b[1;32m--> 229\u001b[1;33m         \u001b[1;32mraise\u001b[0m \u001b[0mexception_class\u001b[0m\u001b[1;33m(\u001b[0m\u001b[0mmessage\u001b[0m\u001b[1;33m,\u001b[0m \u001b[0mscreen\u001b[0m\u001b[1;33m,\u001b[0m \u001b[0mstacktrace\u001b[0m\u001b[1;33m)\u001b[0m\u001b[1;33m\u001b[0m\u001b[1;33m\u001b[0m\u001b[0m\n\u001b[0m",
      "\u001b[1;31mNoSuchElementException\u001b[0m: Message: no such element: Unable to locate element: {\"method\":\"xpath\",\"selector\":\"/html/body/div[2]\"}\n  (Session info: chrome=123.0.6312.86); For documentation on this error, please visit: https://www.selenium.dev/documentation/webdriver/troubleshooting/errors#no-such-element-exception\nStacktrace:\n\tGetHandleVerifier [0x00007FF6D09A70C2+63090]\n\t(No symbol) [0x00007FF6D0912D12]\n\t(No symbol) [0x00007FF6D07AEC65]\n\t(No symbol) [0x00007FF6D07F499D]\n\t(No symbol) [0x00007FF6D07F4ADC]\n\t(No symbol) [0x00007FF6D0835B37]\n\t(No symbol) [0x00007FF6D081701F]\n\t(No symbol) [0x00007FF6D0833412]\n\t(No symbol) [0x00007FF6D0816D83]\n\t(No symbol) [0x00007FF6D07E83A8]\n\t(No symbol) [0x00007FF6D07E9441]\n\tGetHandleVerifier [0x00007FF6D0DA262D+4238301]\n\tGetHandleVerifier [0x00007FF6D0DDF78D+4488509]\n\tGetHandleVerifier [0x00007FF6D0DD7A6F+4456479]\n\tGetHandleVerifier [0x00007FF6D0A80606+953270]\n\t(No symbol) [0x00007FF6D091E5DF]\n\t(No symbol) [0x00007FF6D09192B4]\n\t(No symbol) [0x00007FF6D09193EB]\n\t(No symbol) [0x00007FF6D0909C24]\n\tBaseThreadInitThunk [0x00007FFD1331257D+29]\n\tRtlUserThreadStart [0x00007FFD143EAA58+40]\n"
     ]
    }
   ],
   "source": [
    "## INFLACION\n",
    "data = driver.find_element( By.XPATH,  '/html/body/div[2]')\n",
    "\n",
    "data_tab = data.get_attribute( 'outerHTML' )\n",
    "table_html_io = StringIO( data_tab )\n",
    "table_df      = pd.read_html( table_html_io )[ 0 ]\n",
    "table_df.head(5)"
   ]
  },
  {
   "cell_type": "code",
   "execution_count": 17,
   "id": "b60f3bfb",
   "metadata": {},
   "outputs": [],
   "source": [
    "url = 'https://www.sbs.gob.pe/'\n",
    "\n",
    "driver  = webdriver.Chrome()        \n",
    "driver.get( url )"
   ]
  },
  {
   "cell_type": "code",
   "execution_count": 18,
   "id": "0e47b145",
   "metadata": {},
   "outputs": [],
   "source": [
    "driver.maximize_window()"
   ]
  },
  {
   "cell_type": "code",
   "execution_count": 37,
   "id": "ce366262",
   "metadata": {},
   "outputs": [
    {
     "name": "stdout",
     "output_type": "stream",
     "text": [
      "<selenium.webdriver.remote.webelement.WebElement (session=\"81e8aa4881756142f659b0412fe499e2\", element=\"f.7449BCF88100FA35799B2FEFA57D5456.d.37B4254D84BC33166D15CF17939FA1D1.e.48\")>\n"
     ]
    }
   ],
   "source": [
    "data = driver.find_element( By.XPATH,  '//*[@id=\"dnn_ctr25850_HtmlModule_lblContent\"]/div/div/ul/li[1]/div[2]/table/tbody/tr')\n",
    "print(data)"
   ]
  },
  {
   "cell_type": "code",
   "execution_count": 39,
   "id": "04e3cadd",
   "metadata": {},
   "outputs": [
    {
     "name": "stdout",
     "output_type": "stream",
     "text": [
      "<tr>\n",
      "    <td>Compra\n",
      "    <div id=\"divCompra\">3.704</div>\n",
      "    </td>\n",
      "    <td class=\"text-right\">\n",
      "    <div class=\"ventas-home\">Venta\n",
      "    <div id=\"divVenta\">3.711</div>\n",
      "    </div>\n",
      "    </td>\n",
      "   </tr>\n"
     ]
    }
   ],
   "source": [
    "data = driver.find_element(By.XPATH, '//*[@id=\"dnn_ctr25850_HtmlModule_lblContent\"]/div/div/ul/li[1]/div[2]/table/tbody/tr')\n",
    "print(data.get_attribute('outerHTML'))  # Esto imprimirá el HTML completo del elemento\n"
   ]
  },
  {
   "cell_type": "code",
   "execution_count": 40,
   "id": "9b300421",
   "metadata": {},
   "outputs": [
    {
     "data": {
      "text/html": [
       "<div>\n",
       "<style scoped>\n",
       "    .dataframe tbody tr th:only-of-type {\n",
       "        vertical-align: middle;\n",
       "    }\n",
       "\n",
       "    .dataframe tbody tr th {\n",
       "        vertical-align: top;\n",
       "    }\n",
       "\n",
       "    .dataframe thead th {\n",
       "        text-align: right;\n",
       "    }\n",
       "</style>\n",
       "<table border=\"1\" class=\"dataframe\">\n",
       "  <thead>\n",
       "    <tr style=\"text-align: right;\">\n",
       "      <th></th>\n",
       "      <th>Compra</th>\n",
       "      <th>Venta</th>\n",
       "    </tr>\n",
       "  </thead>\n",
       "  <tbody>\n",
       "    <tr>\n",
       "      <th>0</th>\n",
       "      <td>3.704</td>\n",
       "      <td>3.711</td>\n",
       "    </tr>\n",
       "  </tbody>\n",
       "</table>\n",
       "</div>"
      ],
      "text/plain": [
       "  Compra  Venta\n",
       "0  3.704  3.711"
      ]
     },
     "execution_count": 40,
     "metadata": {},
     "output_type": "execute_result"
    }
   ],
   "source": [
    "from bs4 import BeautifulSoup\n",
    "import pandas as pd\n",
    "\n",
    "# Parseamos el HTML utilizando BeautifulSoup\n",
    "soup = BeautifulSoup(data.get_attribute('outerHTML'), 'html.parser')\n",
    "\n",
    "# Encontramos todas las etiquetas <tr> para extraer las filas de la tabla\n",
    "rows = soup.find_all('tr')\n",
    "\n",
    "# Creamos listas para almacenar los datos de la tabla\n",
    "compras = []\n",
    "ventas = []\n",
    "\n",
    "# Iteramos sobre las filas para extraer los datos de la tabla\n",
    "for row in rows:\n",
    "    cols = row.find_all('td')\n",
    "    compra = cols[0].text.strip()  # Obtenemos el texto de la primera columna\n",
    "    venta = cols[1].text.strip()   # Obtenemos el texto de la segunda columna\n",
    "    compras.append(compra)\n",
    "    ventas.append(venta)\n",
    "\n",
    "# Creamos un DataFrame de pandas con los datos obtenidos\n",
    "table_df = pd.DataFrame({'Compra': compras, 'Venta': ventas})\n",
    "\n",
    "# Eliminamos el texto adicional de \"Compra\" y \"Venta\" en los valores de las columnas\n",
    "table_df['Compra'] = table_df['Compra'].str.split().str[-1]  # Seleccionamos el último elemento después de dividir por espacios\n",
    "table_df['Venta'] = table_df['Venta'].str.split().str[-1]   # Seleccionamos el último elemento después de dividir por espacios\n",
    "\n",
    "# Eliminamos el texto adicional de \"Compra\" y \"Venta\" en los nombres de las columnas\n",
    "table_df.columns = table_df.columns.str.split().str[-1]  # Seleccionamos el último elemento después de dividir por espacios\n",
    "\n",
    "# Mostramos el DataFrame resultante\n",
    "table_df\n"
   ]
  },
  {
   "cell_type": "code",
   "execution_count": null,
   "id": "03eed502",
   "metadata": {},
   "outputs": [],
   "source": [
    "\n",
    "\n"
   ]
  }
 ],
 "metadata": {
  "kernelspec": {
   "display_name": "Python 3 (ipykernel)",
   "language": "python",
   "name": "python3"
  },
  "language_info": {
   "codemirror_mode": {
    "name": "ipython",
    "version": 3
   },
   "file_extension": ".py",
   "mimetype": "text/x-python",
   "name": "python",
   "nbconvert_exporter": "python",
   "pygments_lexer": "ipython3",
   "version": "3.9.13"
  }
 },
 "nbformat": 4,
 "nbformat_minor": 5
}
