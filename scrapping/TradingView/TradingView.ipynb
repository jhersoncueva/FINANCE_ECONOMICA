{
 "cells": [
  {
   "cell_type": "code",
   "execution_count": 2,
   "id": "2ac0e1e6",
   "metadata": {},
   "outputs": [
    {
     "name": "stdout",
     "output_type": "stream",
     "text": [
      "Defaulting to user installation because normal site-packages is not writeable\n",
      "Collecting tradingview_ta\n",
      "  Downloading tradingview_ta-3.3.0-py3-none-any.whl (10 kB)\n",
      "Requirement already satisfied: requests in c:\\users\\hp support\\appdata\\roaming\\python\\python39\\site-packages (from tradingview_ta) (2.31.0)\n",
      "Requirement already satisfied: certifi>=2017.4.17 in c:\\programdata\\anaconda3\\lib\\site-packages (from requests->tradingview_ta) (2022.9.14)\n",
      "Requirement already satisfied: urllib3<3,>=1.21.1 in c:\\programdata\\anaconda3\\lib\\site-packages (from requests->tradingview_ta) (1.26.11)\n",
      "Requirement already satisfied: idna<4,>=2.5 in c:\\programdata\\anaconda3\\lib\\site-packages (from requests->tradingview_ta) (3.3)\n",
      "Requirement already satisfied: charset-normalizer<4,>=2 in c:\\programdata\\anaconda3\\lib\\site-packages (from requests->tradingview_ta) (2.0.4)\n",
      "Installing collected packages: tradingview_ta\n",
      "Successfully installed tradingview_ta-3.3.0\n",
      "Note: you may need to restart the kernel to use updated packages.\n"
     ]
    }
   ],
   "source": [
    "\n",
    "pip install tradingview_ta\n"
   ]
  },
  {
   "cell_type": "code",
   "execution_count": 3,
   "id": "b21a8cb5",
   "metadata": {},
   "outputs": [
    {
     "name": "stdout",
     "output_type": "stream",
     "text": [
      "{'RECOMMENDATION': 'SELL', 'BUY': 2, 'SELL': 15, 'NEUTRAL': 9}\n"
     ]
    }
   ],
   "source": [
    "from tradingview_ta import TA_Handler, Interval, Exchange\n",
    "\n",
    "tesla = TA_Handler(\n",
    "    symbol=\"TSLA\",\n",
    "    screener=\"america\",\n",
    "    exchange=\"NASDAQ\",\n",
    "    interval=Interval.INTERVAL_1_DAY,\n",
    "    # proxies={'http': 'http://example.com:8080'} # Uncomment to enable proxy (replace the URL).\n",
    ")\n",
    "print(tesla.get_analysis().summary)\n",
    "# Example output: {\"RECOMMENDATION\": \"BUY\", \"BUY\": 8, \"NEUTRAL\": 6, \"SELL\": 3}"
   ]
  },
  {
   "cell_type": "code",
   "execution_count": 5,
   "id": "72d8b02a",
   "metadata": {},
   "outputs": [
    {
     "name": "stdout",
     "output_type": "stream",
     "text": [
      "Defaulting to user installation because normal site-packages is not writeable\n",
      "Collecting lightweight_charts\n",
      "  Downloading lightweight_charts-1.0.20-py3-none-any.whl (95 kB)\n",
      "     -------------------------------------- 95.7/95.7 kB 919.0 kB/s eta 0:00:00\n",
      "Collecting pywebview>=4.3\n",
      "  Downloading pywebview-5.0.5-py3-none-any.whl (445 kB)\n",
      "     ------------------------------------ 445.3/445.3 kB 898.9 kB/s eta 0:00:00\n",
      "Requirement already satisfied: pandas in c:\\users\\hp support\\appdata\\roaming\\python\\python39\\site-packages (from lightweight_charts) (2.2.0)\n",
      "Collecting proxy-tools\n",
      "  Downloading proxy_tools-0.1.0.tar.gz (3.0 kB)\n",
      "  Preparing metadata (setup.py): started\n",
      "  Preparing metadata (setup.py): finished with status 'done'\n",
      "Collecting bottle\n",
      "  Downloading bottle-0.12.25-py3-none-any.whl (90 kB)\n",
      "     -------------------------------------- 90.2/90.2 kB 850.4 kB/s eta 0:00:00\n",
      "Requirement already satisfied: pythonnet in c:\\users\\hp support\\appdata\\roaming\\python\\python39\\site-packages (from pywebview>=4.3->lightweight_charts) (3.0.3)\n",
      "Requirement already satisfied: typing-extensions in c:\\users\\hp support\\appdata\\roaming\\python\\python39\\site-packages (from pywebview>=4.3->lightweight_charts) (4.9.0)\n",
      "Requirement already satisfied: python-dateutil>=2.8.2 in c:\\programdata\\anaconda3\\lib\\site-packages (from pandas->lightweight_charts) (2.8.2)\n",
      "Requirement already satisfied: pytz>=2020.1 in c:\\users\\hp support\\appdata\\roaming\\python\\python39\\site-packages (from pandas->lightweight_charts) (2023.3.post1)\n",
      "Requirement already satisfied: numpy<2,>=1.22.4 in c:\\users\\hp support\\appdata\\roaming\\python\\python39\\site-packages (from pandas->lightweight_charts) (1.26.4)\n",
      "Requirement already satisfied: tzdata>=2022.7 in c:\\users\\hp support\\appdata\\roaming\\python\\python39\\site-packages (from pandas->lightweight_charts) (2024.1)\n",
      "Requirement already satisfied: six>=1.5 in c:\\programdata\\anaconda3\\lib\\site-packages (from python-dateutil>=2.8.2->pandas->lightweight_charts) (1.16.0)\n",
      "Requirement already satisfied: clr-loader<0.3.0,>=0.2.6 in c:\\users\\hp support\\appdata\\roaming\\python\\python39\\site-packages (from pythonnet->pywebview>=4.3->lightweight_charts) (0.2.6)\n",
      "Requirement already satisfied: cffi>=1.13 in c:\\programdata\\anaconda3\\lib\\site-packages (from clr-loader<0.3.0,>=0.2.6->pythonnet->pywebview>=4.3->lightweight_charts) (1.15.1)\n",
      "Requirement already satisfied: pycparser in c:\\programdata\\anaconda3\\lib\\site-packages (from cffi>=1.13->clr-loader<0.3.0,>=0.2.6->pythonnet->pywebview>=4.3->lightweight_charts) (2.21)\n",
      "Building wheels for collected packages: proxy-tools\n",
      "  Building wheel for proxy-tools (setup.py): started\n",
      "  Building wheel for proxy-tools (setup.py): finished with status 'done'\n",
      "  Created wheel for proxy-tools: filename=proxy_tools-0.1.0-py3-none-any.whl size=2904 sha256=3edc9704d82f67d6cc50fef03c239ef7f6dc46e0299a0d28acead71e26fa440f\n",
      "  Stored in directory: c:\\users\\hp support\\appdata\\local\\pip\\cache\\wheels\\47\\0a\\4b\\5fec054a652e5e37150336c92e279ab69522ae0ec8a0dd7b84\n",
      "Successfully built proxy-tools\n",
      "Installing collected packages: proxy-tools, bottle, pywebview, lightweight_charts\n",
      "Successfully installed bottle-0.12.25 lightweight_charts-1.0.20 proxy-tools-0.1.0 pywebview-5.0.5\n",
      "Note: you may need to restart the kernel to use updated packages.\n"
     ]
    }
   ],
   "source": [
    "pip install lightweight_charts"
   ]
  },
  {
   "cell_type": "code",
   "execution_count": 6,
   "id": "14a58177",
   "metadata": {},
   "outputs": [],
   "source": [
    "import pandas as pd\n",
    "import requests\n",
    "import numpy as np\n",
    "from lightweight_charts import Chart\n",
    "import time\n",
    "import asyncio\n",
    "import nest_asyncio\n",
    "nest_asyncio.apply()\n",
    "\n",
    "#Autor: https://www.insightbig.com/post/replicating-tradingview-chart-in-python"
   ]
  },
  {
   "cell_type": "code",
   "execution_count": 10,
   "id": "fd26dd6d",
   "metadata": {},
   "outputs": [
    {
     "data": {
      "text/plain": [
       "{'Error Message': 'Invalid API KEY. Feel free to create a Free API Key or visit https://site.financialmodelingprep.com/faqs?search=why-is-my-api-key-invalid for more information.'}"
      ]
     },
     "execution_count": 10,
     "metadata": {},
     "output_type": "execute_result"
    }
   ],
   "source": [
    "api_key = 'YOUR API KEY'\n",
    "hist_json = requests.get(f'https://financialmodelingprep.com/api/v3/historical-price-full/AAPL?apikey={api_key}').json()\n",
    "\n",
    "hist_json"
   ]
  },
  {
   "cell_type": "code",
   "execution_count": 8,
   "id": "4448d4a7",
   "metadata": {},
   "outputs": [
    {
     "ename": "KeyError",
     "evalue": "'historical'",
     "output_type": "error",
     "traceback": [
      "\u001b[1;31m---------------------------------------------------------------------------\u001b[0m",
      "\u001b[1;31mKeyError\u001b[0m                                  Traceback (most recent call last)",
      "\u001b[1;32m~\\AppData\\Local\\Temp\\ipykernel_28952\\287846121.py\u001b[0m in \u001b[0;36m<module>\u001b[1;34m\u001b[0m\n\u001b[0;32m      2\u001b[0m \u001b[0mhist_json\u001b[0m \u001b[1;33m=\u001b[0m \u001b[0mrequests\u001b[0m\u001b[1;33m.\u001b[0m\u001b[0mget\u001b[0m\u001b[1;33m(\u001b[0m\u001b[1;34mf'https://financialmodelingprep.com/api/v3/historical-price-full/AAPL?apikey={api_key}'\u001b[0m\u001b[1;33m)\u001b[0m\u001b[1;33m.\u001b[0m\u001b[0mjson\u001b[0m\u001b[1;33m(\u001b[0m\u001b[1;33m)\u001b[0m\u001b[1;33m\u001b[0m\u001b[1;33m\u001b[0m\u001b[0m\n\u001b[0;32m      3\u001b[0m \u001b[1;33m\u001b[0m\u001b[0m\n\u001b[1;32m----> 4\u001b[1;33m \u001b[0mhist_df\u001b[0m \u001b[1;33m=\u001b[0m \u001b[0mpd\u001b[0m\u001b[1;33m.\u001b[0m\u001b[0mDataFrame\u001b[0m\u001b[1;33m(\u001b[0m\u001b[0mhist_json\u001b[0m\u001b[1;33m[\u001b[0m\u001b[1;34m'historical'\u001b[0m\u001b[1;33m]\u001b[0m\u001b[1;33m)\u001b[0m\u001b[1;33m.\u001b[0m\u001b[0mdrop\u001b[0m\u001b[1;33m(\u001b[0m\u001b[1;34m'label'\u001b[0m\u001b[1;33m,\u001b[0m \u001b[0maxis\u001b[0m \u001b[1;33m=\u001b[0m \u001b[1;36m1\u001b[0m\u001b[1;33m)\u001b[0m\u001b[1;33m\u001b[0m\u001b[1;33m\u001b[0m\u001b[0m\n\u001b[0m\u001b[0;32m      5\u001b[0m \u001b[0mhist_df\u001b[0m \u001b[1;33m=\u001b[0m \u001b[0mhist_df\u001b[0m\u001b[1;33m.\u001b[0m\u001b[0miloc\u001b[0m\u001b[1;33m[\u001b[0m\u001b[1;33m:\u001b[0m\u001b[1;33m:\u001b[0m\u001b[1;33m-\u001b[0m\u001b[1;36m1\u001b[0m\u001b[1;33m]\u001b[0m\u001b[1;33m.\u001b[0m\u001b[0mreset_index\u001b[0m\u001b[1;33m(\u001b[0m\u001b[1;33m)\u001b[0m\u001b[1;33m.\u001b[0m\u001b[0mdrop\u001b[0m\u001b[1;33m(\u001b[0m\u001b[1;33m[\u001b[0m\u001b[1;34m'index'\u001b[0m\u001b[1;33m,\u001b[0m\u001b[1;34m'adjClose'\u001b[0m\u001b[1;33m]\u001b[0m\u001b[1;33m,\u001b[0m \u001b[0maxis\u001b[0m \u001b[1;33m=\u001b[0m \u001b[1;36m1\u001b[0m\u001b[1;33m)\u001b[0m\u001b[1;33m\u001b[0m\u001b[1;33m\u001b[0m\u001b[0m\n\u001b[0;32m      6\u001b[0m \u001b[0mhist_df\u001b[0m\u001b[1;33m.\u001b[0m\u001b[0mdate\u001b[0m \u001b[1;33m=\u001b[0m \u001b[0mpd\u001b[0m\u001b[1;33m.\u001b[0m\u001b[0mto_datetime\u001b[0m\u001b[1;33m(\u001b[0m\u001b[0mhist_df\u001b[0m\u001b[1;33m.\u001b[0m\u001b[0mdate\u001b[0m\u001b[1;33m)\u001b[0m\u001b[1;33m\u001b[0m\u001b[1;33m\u001b[0m\u001b[0m\n",
      "\u001b[1;31mKeyError\u001b[0m: 'historical'"
     ]
    }
   ],
   "source": [
    "api_key = 'YOUR API KEY'\n",
    "hist_json = requests.get(f'https://financialmodelingprep.com/api/v3/historical-price-full/AAPL?apikey={api_key}').json()\n",
    "\n",
    "hist_df = pd.DataFrame(hist_json['historical']).drop('label', axis = 1)\n",
    "hist_df = hist_df.iloc[::-1].reset_index().drop(['index','adjClose'], axis = 1)\n",
    "hist_df.date = pd.to_datetime(hist_df.date)\n",
    "hist_df = hist_df.iloc[:,:6].iloc[-365:]\n",
    "hist_df.columns = ['time', 'open', 'high', 'low', 'close', 'volume']\n",
    "\n",
    "hist_df.tail()"
   ]
  },
  {
   "cell_type": "code",
   "execution_count": null,
   "id": "4893b44b",
   "metadata": {},
   "outputs": [],
   "source": [
    "chart = Chart()\n",
    "chart.set(hist_df)\n",
    "chart.show(block = False)"
   ]
  }
 ],
 "metadata": {
  "kernelspec": {
   "display_name": "Python 3 (ipykernel)",
   "language": "python",
   "name": "python3"
  },
  "language_info": {
   "codemirror_mode": {
    "name": "ipython",
    "version": 3
   },
   "file_extension": ".py",
   "mimetype": "text/x-python",
   "name": "python",
   "nbconvert_exporter": "python",
   "pygments_lexer": "ipython3",
   "version": "3.9.13"
  }
 },
 "nbformat": 4,
 "nbformat_minor": 5
}
